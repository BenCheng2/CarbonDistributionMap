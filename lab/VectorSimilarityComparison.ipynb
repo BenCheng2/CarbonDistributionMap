{
 "cells": [
  {
   "cell_type": "code",
   "id": "initial_id",
   "metadata": {
    "collapsed": true,
    "ExecuteTime": {
     "end_time": "2025-03-18T01:59:30.086301Z",
     "start_time": "2025-03-18T01:59:30.056458Z"
    }
   },
   "source": "from helpers.border import find_closed_regions\n",
   "outputs": [],
   "execution_count": 1
  },
  {
   "metadata": {
    "ExecuteTime": {
     "end_time": "2025-03-18T01:59:34.234563Z",
     "start_time": "2025-03-18T01:59:30.089283Z"
    }
   },
   "cell_type": "code",
   "source": [
    "from helpers.DataLoader import DataLoader\n",
    "\n",
    "dataloader = DataLoader()\n"
   ],
   "id": "7fc877d4a7e34e01",
   "outputs": [],
   "execution_count": 2
  },
  {
   "metadata": {
    "ExecuteTime": {
     "end_time": "2025-03-18T01:59:34.485579Z",
     "start_time": "2025-03-18T01:59:34.409082Z"
    }
   },
   "cell_type": "code",
   "source": [
    "from helpers.position import map_cities_to_planning_areas, map_stations_to_planning_areas, get_substations_in_city_areas\n",
    "\n",
    "planning_area_closed_regions = find_closed_regions(dataloader.planning_area_border_df)\n",
    "city_closed_regions = find_closed_regions(dataloader.city_border_df)\n",
    "\n",
    "planning_area_to_cities = map_cities_to_planning_areas(planning_area_closed_regions, dataloader.city_to_coordinates)\n"
   ],
   "id": "2ea511b4d88a2fdd",
   "outputs": [],
   "execution_count": 3
  },
  {
   "metadata": {
    "ExecuteTime": {
     "end_time": "2025-03-18T01:59:34.517092Z",
     "start_time": "2025-03-18T01:59:34.502069Z"
    }
   },
   "cell_type": "code",
   "source": [
    "planning_area_to_population = {}\n",
    "\n",
    "for area, cities in planning_area_to_cities.items():\n",
    "    total_pop = 0\n",
    "\n",
    "    for city in cities:\n",
    "        total_pop += dataloader.city_to_population.get(city, 0)\n",
    "\n",
    "    planning_area_to_population[area] = total_pop"
   ],
   "id": "b7b93d3901f7d4a2",
   "outputs": [],
   "execution_count": 4
  },
  {
   "metadata": {
    "ExecuteTime": {
     "end_time": "2025-03-18T01:59:34.547605Z",
     "start_time": "2025-03-18T01:59:34.533550Z"
    }
   },
   "cell_type": "code",
   "source": [
    "import numpy as np\n",
    "from scipy.stats import pearsonr\n",
    "\n",
    "def cosine_similarity(vec1, vec2):\n",
    "    vec1 = np.array(vec1)\n",
    "    vec2 = np.array(vec2)\n",
    "    dot_product = np.dot(vec1, vec2)\n",
    "    norm1 = np.linalg.norm(vec1)\n",
    "    norm2 = np.linalg.norm(vec2)\n",
    "    return dot_product / (norm1 * norm2) if norm1 != 0 and norm2 != 0 else 0\n"
   ],
   "id": "bca6f7c690abd888",
   "outputs": [],
   "execution_count": 5
  },
  {
   "metadata": {
    "ExecuteTime": {
     "end_time": "2025-03-18T01:59:34.578669Z",
     "start_time": "2025-03-18T01:59:34.563631Z"
    }
   },
   "cell_type": "code",
   "source": [
    "for year in range(2012, 2025, 1):\n",
    "    demand_vector = []\n",
    "    population_vector = []\n",
    "\n",
    "    for region in planning_area_to_population.keys():\n",
    "        demand_pct = planning_area_to_population.get(region, 0)\n",
    "        population_pct = dataloader.planning_area_demand[year].get(region, 0)\n",
    "        demand_vector.append(demand_pct)\n",
    "        population_vector.append(population_pct)\n",
    "\n",
    "    similarity = cosine_similarity(demand_vector, population_vector)\n",
    "    pearson_corr, _ = pearsonr(demand_vector, population_vector)\n",
    "    print(f\"Year {year} Cosine Similarity: {round(similarity, 4)} Pearson Correlation Coefficient {pearson_corr:.4f}\")\n"
   ],
   "id": "c74134dc86e014a6",
   "outputs": [
    {
     "name": "stdout",
     "output_type": "stream",
     "text": [
      "Year 2012 Cosine Similarity: 0.7722 Pearson Correlation Coefficient 0.7579\n",
      "Year 2013 Cosine Similarity: 0.7583 Pearson Correlation Coefficient 0.7396\n",
      "Year 2014 Cosine Similarity: 0.7465 Pearson Correlation Coefficient 0.7242\n",
      "Year 2015 Cosine Similarity: 0.728 Pearson Correlation Coefficient 0.7005\n",
      "Year 2016 Cosine Similarity: 0.7311 Pearson Correlation Coefficient 0.7045\n",
      "Year 2017 Cosine Similarity: 0.7026 Pearson Correlation Coefficient 0.6682\n",
      "Year 2018 Cosine Similarity: 0.6719 Pearson Correlation Coefficient 0.6301\n",
      "Year 2019 Cosine Similarity: 0.6624 Pearson Correlation Coefficient 0.6183\n",
      "Year 2020 Cosine Similarity: 0.81 Pearson Correlation Coefficient 0.8025\n",
      "Year 2021 Cosine Similarity: 0.8959 Pearson Correlation Coefficient 0.9080\n",
      "Year 2022 Cosine Similarity: 0.8944 Pearson Correlation Coefficient 0.9058\n",
      "Year 2023 Cosine Similarity: 0.8956 Pearson Correlation Coefficient 0.9054\n",
      "Year 2024 Cosine Similarity: 0.8908 Pearson Correlation Coefficient 0.9002\n"
     ]
    }
   ],
   "execution_count": 6
  }
 ],
 "metadata": {
  "kernelspec": {
   "display_name": "Python 3",
   "language": "python",
   "name": "python3"
  },
  "language_info": {
   "codemirror_mode": {
    "name": "ipython",
    "version": 2
   },
   "file_extension": ".py",
   "mimetype": "text/x-python",
   "name": "python",
   "nbconvert_exporter": "python",
   "pygments_lexer": "ipython2",
   "version": "2.7.6"
  }
 },
 "nbformat": 4,
 "nbformat_minor": 5
}
