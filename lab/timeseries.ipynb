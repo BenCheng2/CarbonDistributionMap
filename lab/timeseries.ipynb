{
 "cells": [
  {
   "metadata": {},
   "cell_type": "markdown",
   "source": "Lab 3: Super Component Direction Determination, Based on Substations",
   "id": "38a585bd6f0296bf"
  },
  {
   "metadata": {
    "ExecuteTime": {
     "end_time": "2025-04-05T19:12:56.459302Z",
     "start_time": "2025-04-05T19:12:56.215973Z"
    }
   },
   "cell_type": "code",
   "source": [
    "import numpy as np\n",
    "import seaborn as sns\n",
    "import networkx as nx\n",
    "import random\n",
    "from shapely.geometry import Polygon, LineString, Point\n",
    "from helpers.border import find_closed_regions\n",
    "from collections import defaultdict, deque\n",
    "import matplotlib.pyplot as plt\n",
    "\n",
    "from helpers.demand import estimate_substation_demand_average_within_planning_area, \\\n",
    "    estimate_substation_demand_average_within_planning_area_urban_check\n",
    "from helpers.position import map_cities_to_planning_areas, map_stations_to_planning_areas, get_substations_in_city_areas\n",
    "from helpers.policy import policy_helper_power_line_same_direction\n",
    "from helpers.DataLoader import DataLoader\n",
    "import networkx as nx\n"
   ],
   "id": "caa5eebb53615a1d",
   "outputs": [],
   "execution_count": 1
  },
  {
   "metadata": {
    "ExecuteTime": {
     "end_time": "2025-04-05T19:12:56.475645Z",
     "start_time": "2025-04-05T19:12:56.463308Z"
    }
   },
   "cell_type": "code",
   "source": [
    "config = {\n",
    "    \"line\": {\n",
    "        \"target_voltages\": [0, 69, 138, 240, 500]\n",
    "    }\n",
    "}"
   ],
   "id": "3c5571de9bdef17a",
   "outputs": [],
   "execution_count": 2
  },
  {
   "metadata": {
    "ExecuteTime": {
     "end_time": "2025-04-05T19:13:00.944663Z",
     "start_time": "2025-04-05T19:12:56.665976Z"
    }
   },
   "cell_type": "code",
   "source": "dataloader = DataLoader()",
   "id": "17d2bac76d74c371",
   "outputs": [
    {
     "name": "stdout",
     "output_type": "stream",
     "text": [
      "Generator current supply data is available.\n"
     ]
    }
   ],
   "execution_count": 3
  },
  {
   "metadata": {
    "ExecuteTime": {
     "end_time": "2025-04-05T19:13:00.975575Z",
     "start_time": "2025-04-05T19:13:00.961144Z"
    }
   },
   "cell_type": "code",
   "source": [
    "def get_substation_total_generation(substation):\n",
    "    current_generation = 0\n",
    "    for generator in dataloader.substations_to_generators[substation]:\n",
    "            current_generation += dataloader.generators_to_capacities[generator]\n",
    "    return current_generation"
   ],
   "id": "7efa2b8539a7c6b1",
   "outputs": [],
   "execution_count": 4
  },
  {
   "metadata": {
    "ExecuteTime": {
     "end_time": "2025-04-05T19:13:01.023171Z",
     "start_time": "2025-04-05T19:13:01.008748Z"
    }
   },
   "cell_type": "code",
   "source": [
    "def get_subgraphs(graph_edges, remove_fixed_edges):\n",
    "    G = nx.Graph()\n",
    "\n",
    "    G.add_edges_from(graph_edges)\n",
    "\n",
    "    G.remove_edges_from(remove_fixed_edges)\n",
    "\n",
    "    subgraphs = [list(comp) for comp in nx.connected_components(G)]\n",
    "\n",
    "    return subgraphs"
   ],
   "id": "6890166c82bda371",
   "outputs": [],
   "execution_count": 5
  },
  {
   "metadata": {
    "ExecuteTime": {
     "end_time": "2025-04-05T19:13:01.038708Z",
     "start_time": "2025-04-05T19:13:01.025678Z"
    }
   },
   "cell_type": "code",
   "source": [
    "def get_subgraphs_with_io(graph_edges, remove_fixed_edges):\n",
    "    G = nx.Graph()\n",
    "    G.add_edges_from(graph_edges)\n",
    "\n",
    "    G.remove_edges_from(remove_fixed_edges)\n",
    "\n",
    "    subgraphs = [list(comp) for comp in nx.connected_components(G)]\n",
    "\n",
    "    subgraph_info = []\n",
    "\n",
    "    for subgraph in subgraphs:\n",
    "        input_nodes = set()\n",
    "        output_nodes = set()\n",
    "\n",
    "        for src, dst in remove_fixed_edges:\n",
    "            if src in subgraph and dst not in subgraph:\n",
    "                output_nodes.add(src)\n",
    "            if dst in subgraph and src not in subgraph:\n",
    "                input_nodes.add(dst)\n",
    "\n",
    "        subgraph_info.append({\n",
    "            \"subgraph\": subgraph,\n",
    "            \"input_nodes\": list(input_nodes),\n",
    "            \"output_nodes\": list(output_nodes)\n",
    "        })\n",
    "\n",
    "    return subgraph_info"
   ],
   "id": "3c4967dbb88512b8",
   "outputs": [],
   "execution_count": 6
  },
  {
   "metadata": {
    "ExecuteTime": {
     "end_time": "2025-04-05T19:13:01.069549Z",
     "start_time": "2025-04-05T19:13:01.055016Z"
    }
   },
   "cell_type": "code",
   "source": [
    "def assign_directions(subgraph_data, original_edges, remove_fixed_edges):\n",
    "    subgraph_nodes = subgraph_data[\"subgraph\"]\n",
    "    input_nodes = set(subgraph_data[\"input_nodes\"])\n",
    "    output_nodes = set(subgraph_data[\"output_nodes\"])\n",
    "\n",
    "    G = nx.Graph()\n",
    "    G.add_nodes_from(subgraph_nodes)\n",
    "\n",
    "    for edge in original_edges:\n",
    "        if edge[0] in subgraph_nodes and edge[1] in subgraph_nodes and (edge[0], edge[1]) not in remove_fixed_edges and (edge[1],edge[0]) not in remove_fixed_edges:\n",
    "            G.add_edge(edge[0], edge[1])\n",
    "\n",
    "    DiG = nx.DiGraph()\n",
    "    DiG.add_nodes_from(subgraph_nodes)\n",
    "\n",
    "    visited = set()\n",
    "    queue = list(input_nodes)\n",
    "\n",
    "    while queue:\n",
    "        node = queue.pop(0)\n",
    "        visited.add(node)\n",
    "\n",
    "        for neighbor in G.neighbors(node):\n",
    "            if neighbor not in visited:\n",
    "                # Direction: node -> neighbor\n",
    "                DiG.add_edge(node, neighbor)\n",
    "                queue.append(neighbor)\n",
    "\n",
    "    return DiG"
   ],
   "id": "f2e9be9cbd2bbd83",
   "outputs": [],
   "execution_count": 7
  },
  {
   "metadata": {
    "ExecuteTime": {
     "end_time": "2025-04-05T19:13:01.101685Z",
     "start_time": "2025-04-05T19:13:01.086666Z"
    }
   },
   "cell_type": "code",
   "source": [
    "def find_reachable_edges(local_edges, generators_to_substations):\n",
    "    pfg = nx.DiGraph()\n",
    "    pfg.add_edges_from(local_edges)\n",
    "\n",
    "    all_reachable_nodes = set()\n",
    "    pdf_edges = set(pfg.edges())\n",
    "\n",
    "    for generator_station in set(generators_to_substations.values()):\n",
    "        if generator_station in pfg:\n",
    "            all_reachable_nodes.update(nx.descendants(pfg, generator_station))\n",
    "\n",
    "    local_reachable_edges = {edge for edge in pdf_edges if\n",
    "                             edge[0] in all_reachable_nodes or edge[1] in all_reachable_nodes}\n",
    "\n",
    "    local_unreachable_edges = pdf_edges - local_reachable_edges\n",
    "    return pdf_edges, local_reachable_edges, local_unreachable_edges\n",
    "\n",
    "\n",
    "def find_edges_within_voltage(local_edges, target_voltages):\n",
    "    result_edges = []\n",
    "    for edge in local_edges:\n",
    "        local_lines = dataloader.undirect_station_pairs_to_line[edge]\n",
    "        local_filtered_lines = (\n",
    "            [line for line in local_lines if dataloader.lines_to_voltage[line] in target_voltages]\n",
    "        )\n",
    "\n",
    "        if local_filtered_lines:\n",
    "            result_edges.append(edge)\n",
    "\n",
    "    return result_edges"
   ],
   "id": "659ad74d0643ce4a",
   "outputs": [],
   "execution_count": 8
  },
  {
   "metadata": {
    "ExecuteTime": {
     "end_time": "2025-04-05T19:13:01.133127Z",
     "start_time": "2025-04-05T19:13:01.118415Z"
    }
   },
   "cell_type": "code",
   "source": [
    "import pandas as pd\n",
    "\n",
    "activate_urban_check = True\n",
    "\n",
    "year = 2021\n",
    "\n",
    "def process_per_time_point(address):\n",
    "    dataloader.update_generator_mapping(pd.read_csv(address))\n",
    "\n",
    "    remove_fixed_edges = set()\n",
    "    for sub1, sub2 in dataloader.direct_station_pairs_to_line.keys():\n",
    "        if dataloader.substations_to_voltage[sub1] > dataloader.substations_to_voltage[sub2] and (\n",
    "                dataloader.substations_to_voltage[sub1] != 500):\n",
    "            remove_fixed_edges.add((sub1, sub2))\n",
    "        if dataloader.substations_to_voltage[sub1] < dataloader.substations_to_voltage[sub2] and (\n",
    "                dataloader.substations_to_voltage[sub2] != 500):\n",
    "            remove_fixed_edges.add((sub2, sub1))\n",
    "        if dataloader.substations_to_voltage[sub1] == dataloader.substations_to_voltage[sub2]:\n",
    "            if sub1 in dataloader.substations_to_generators and sub2 in dataloader.substations_to_generators:\n",
    "                # graph[sub1].add(sub2)\n",
    "                # graph[sub2].add(sub1)\n",
    "                pass\n",
    "            elif sub1 in dataloader.substations_to_generators and get_substation_total_generation(sub1) > 0:\n",
    "                remove_fixed_edges.add((sub1, sub2))\n",
    "            elif sub2 in dataloader.substations_to_generators and get_substation_total_generation(sub2) > 0:\n",
    "                remove_fixed_edges.add((sub2, sub1))\n",
    "            else:\n",
    "                # graph[sub1].add(sub2)\n",
    "                # graph[sub2].add(sub1)\n",
    "                pass\n",
    "\n",
    "    subgraph_info = get_subgraphs_with_io(dataloader.direct_station_pairs_to_line.keys(), remove_fixed_edges)\n",
    "\n",
    "    directed_subgraphs = []\n",
    "    for subgraph_data in subgraph_info:\n",
    "        directed_graph = assign_directions(subgraph_data, dataloader.undirect_station_pairs_to_line.keys(), remove_fixed_edges)\n",
    "        directed_subgraphs.append(directed_graph)\n",
    "\n",
    "\n",
    "    edges = set()\n",
    "    for idx, DiG in enumerate(directed_subgraphs):\n",
    "        for edge in DiG.edges:\n",
    "            edges.add(edge)\n",
    "\n",
    "    edges = edges | remove_fixed_edges\n",
    "\n",
    "    special_case_edges = []\n",
    "    for e1, e2 in dataloader.direct_station_pairs_to_line.keys():\n",
    "        if (e1, e2) not in edges and (e2, e1) not in edges:\n",
    "            special_case_edges.append((e1, e2))\n",
    "\n",
    "    for special_edge in special_case_edges:\n",
    "        edges.add(special_edge)\n",
    "\n",
    "    edges = list(set(edges))\n",
    "\n",
    "    planning_area_closed_regions = find_closed_regions(dataloader.planning_area_border_df)\n",
    "    city_closed_regions = find_closed_regions(dataloader.city_border_df)\n",
    "\n",
    "    planning_area_to_stations = map_stations_to_planning_areas(planning_area_closed_regions,\n",
    "                                                               dataloader.substations_to_coordinates)\n",
    "\n",
    "    substations_in_city_areas = get_substations_in_city_areas(city_closed_regions, dataloader.substations_to_coordinates)\n",
    "\n",
    "    planning_area_colors = sns.color_palette(\"Paired\", len(planning_area_closed_regions))\n",
    "    random.shuffle(planning_area_colors)\n",
    "\n",
    "\n",
    "    stations_outside_planning_areas = []\n",
    "\n",
    "    for name, (x, y) in dataloader.substations_to_coordinates.items():\n",
    "        station_point = Point(x, y)\n",
    "        in_any_area = False\n",
    "\n",
    "        for polygon in planning_area_closed_regions:\n",
    "            if polygon.contains(station_point):\n",
    "                in_any_area = True\n",
    "                break\n",
    "\n",
    "        if not in_any_area:\n",
    "            stations_outside_planning_areas.append(name)\n",
    "\n",
    "    # Handle exceptions: A few Alberta substations are not in the lands (not covered within any planning areas)\n",
    "    planning_area_to_stations[\"53\"].append('978S')\n",
    "    planning_area_to_stations[\"53\"].append('CRANBROOK B2S')\n",
    "    planning_area_to_stations[\"53\"].append('NATAL')\n",
    "\n",
    "    if activate_urban_check:\n",
    "        substation_demand_dict = estimate_substation_demand_average_within_planning_area_urban_check(\n",
    "            planning_area_to_stations, dataloader.planning_area_demand[year], substations_in_city_areas,\n",
    "            dataloader.get_city_population_ratio())\n",
    "    else:\n",
    "        substation_demand_dict = estimate_substation_demand_average_within_planning_area(planning_area_to_stations,\n",
    "                                                                                         dataloader.planning_area_demand[year])\n",
    "\n",
    "    # Construct directed graph\n",
    "    power_flow_graph = nx.DiGraph()\n",
    "    power_flow_graph.add_edges_from(edges)  # Add the determined directions\n",
    "\n",
    "    substation_to_load = {s: 0.0 for s in substation_demand_dict.keys()}\n",
    "\n",
    "    # Calculate the power contribution of each generator\n",
    "    for generator, station in dataloader.generators_to_substations.items():\n",
    "        if station not in power_flow_graph:\n",
    "            continue\n",
    "\n",
    "        # The supply from each generator\n",
    "        generator_capacity = float(dataloader.generators_to_capacities.get(generator, 0))\n",
    "\n",
    "        # All the reachable substations\n",
    "        reachable_substations = set(nx.descendants(power_flow_graph, station))\n",
    "        reachable_substations.add(station)\n",
    "\n",
    "        # The total demand for reachable substations\n",
    "        total_demand_index = float(sum(substation_demand_dict.get(s, 0)\n",
    "                                       for s in reachable_substations))\n",
    "        if total_demand_index == 0:\n",
    "            continue\n",
    "\n",
    "        # Allocate the generation supply to each substations\n",
    "        for substation in reachable_substations:\n",
    "            demand_index = float(substation_demand_dict.get(substation, 0))\n",
    "            load_ratio = demand_index / total_demand_index\n",
    "            substation_to_load[substation] += load_ratio * generator_capacity\n",
    "\n",
    "    return substation_to_load\n"
   ],
   "id": "8e44ea5315f2c94",
   "outputs": [],
   "execution_count": 9
  },
  {
   "metadata": {
    "ExecuteTime": {
     "end_time": "2025-04-05T19:13:01.163706Z",
     "start_time": "2025-04-05T19:13:01.150148Z"
    }
   },
   "cell_type": "code",
   "source": [
    "import os\n",
    "import glob\n",
    "\n",
    "folder_path = \"..\\\\data\\\\timeseries\\\\github\"\n",
    "csv_files = glob.glob(os.path.join(folder_path, \"*.csv\"))"
   ],
   "id": "368fa55dc3022547",
   "outputs": [],
   "execution_count": 10
  },
  {
   "metadata": {
    "ExecuteTime": {
     "end_time": "2025-04-05T19:13:33.101872Z",
     "start_time": "2025-04-05T19:13:01.179642Z"
    }
   },
   "cell_type": "code",
   "source": [
    "substation_stats = {}\n",
    "\n",
    "for file_path in csv_files:\n",
    "    substation_to_load = process_per_time_point(file_path)\n",
    "\n",
    "    for substation, load in substation_to_load.items():\n",
    "        # If the substation is new, initialize its min and max with the current load\n",
    "        if substation not in substation_stats:\n",
    "            substation_stats[substation] = {\"min\": load, \"max\": load}\n",
    "        else:\n",
    "            # Update the minimum load if the current load is lower\n",
    "            substation_stats[substation][\"min\"] = min(substation_stats[substation][\"min\"], load)\n",
    "            # Update the maximum load if the current load is higher\n",
    "            substation_stats[substation][\"max\"] = max(substation_stats[substation][\"max\"], load)\n",
    "\n",
    "print(substation_stats)\n"
   ],
   "id": "5b72a80aa0b5556b",
   "outputs": [
    {
     "name": "stdout",
     "output_type": "stream",
     "text": [
      "{'795S': {'min': 0.311109052721252, 'max': 1.3685652852022365}, '828S': {'min': 0.311109052721252, 'max': 1.3685652852022365}, '791S': {'min': 0.311109052721252, 'max': 1.3685652852022365}, '747S': {'min': 0.311109052721252, 'max': 1.3685652852022365}, '748S': {'min': 0.311109052721252, 'max': 2.544892073551855}, '779S': {'min': 0.311109052721252, 'max': 1.1763267883496187}, '789S': {'min': 0.311109052721252, 'max': 1.1763267883496187}, '797S': {'min': 0.311109052721252, 'max': 1.1763267883496187}, '930S': {'min': 0.311109052721252, 'max': 1.3685652852022365}, '850S': {'min': 0.311109052721252, 'max': 1.3685652852022365}, '786S': {'min': 7.527768639808013, 'max': 61.57763194420538}, '890S': {'min': 0.6772465855177872, 'max': 2.560720409433665}, '832S': {'min': 0.6772465855177872, 'max': 5.5399206556310565}, '800S': {'min': 16.755950632024618, 'max': 63.35551286697692}, '905S': {'min': 0.1507473315881915, 'max': 0.5699870282408501}, '788S': {'min': 0.1507473315881915, 'max': 0.5699870282408501}, '855S': {'min': 0.1507473315881915, 'max': 1.2331228741569673}, '853S': {'min': 0.1507473315881915, 'max': 0.6631358459161174}, '927S': {'min': 0.1507473315881915, 'max': 0.5699870282408501}, '793S': {'min': 0.1507473315881915, 'max': 0.5699870282408501}, '839S': {'min': 0.1507473315881915, 'max': 0.5699870282408501}, '834S': {'min': 0.1507473315881915, 'max': 0.5699870282408501}, '830S': {'min': 13.150747331588192, 'max': 17.25920557402797}, '829S': {'min': 0.1875793961234369, 'max': 0.5699870282408501}, '783S': {'min': 0.1507473315881915, 'max': 0.5699870282408501}, '812S': {'min': 0.1507473315881915, 'max': 0.5699870282408501}, '780S': {'min': 0.1507473315881915, 'max': 0.5699870282408501}, '869S': {'min': 0.1507473315881915, 'max': 0.5699870282408501}, '827S': {'min': 0.1507473315881915, 'max': 0.5699870282408501}, '878S': {'min': 0.1507473315881915, 'max': 0.5699870282408501}, '796S': {'min': 0.1875793961234369, 'max': 0.5699870282408501}, '858S': {'min': 0.010921406197796387, 'max': 0.42667694540419315}, '724S': {'min': 0.1507473315881915, 'max': 0.5699870282408501}, '861S': {'min': 0.1507473315881915, 'max': 0.5699870282408501}, '718S': {'min': 136.4810994755091, 'max': 243.53327421529448}, '933S': {'min': 136.4810994755091, 'max': 243.53327421529448}, '876S': {'min': 0.25658180756909016, 'max': 0.951246274770295}, '939S': {'min': 0.25658180756909016, 'max': 0.951246274770295}, '1034S': {'min': 3.64423894891657, 'max': 4.010187629979322}, '72S': {'min': 3.64423894891657, 'max': 4.010187629979322}, '723S': {'min': 3.64423894891657, 'max': 4.010187629979322}, '698S': {'min': 3.64423894891657, 'max': 4.010187629979322}, '154S': {'min': 3.64423894891657, 'max': 4.010187629979322}, '762S': {'min': 2.4091621503297826, 'max': 2.5616407674392625}, '539S': {'min': 1.2350767985867872, 'max': 1.4485468625400593}, '658S': {'min': 3.64423894891657, 'max': 4.010187629979322}, '907S': {'min': 3.64423894891657, 'max': 4.010187629979322}, '2049S': {'min': 8.076631495679608, 'max': 18.13290408144166}, '931S': {'min': 8.076631495679608, 'max': 18.13290408144166}, '856S': {'min': 4.41714468505209, 'max': 14.137964313173283}, '2081S': {'min': 4.41714468505209, 'max': 14.137964313173283}, '2060S': {'min': 4.41714468505209, 'max': 14.137964313173283}, '989S': {'min': 4.41714468505209, 'max': 14.137964313173283}, '864S': {'min': 48.91714468505209, 'max': 59.85463447523231}, '841S': {'min': 48.91714468505209, 'max': 59.85463447523231}, '977S': {'min': 4.41714468505209, 'max': 14.137964313173283}, '820S': {'min': 4.41714468505209, 'max': 14.137964313173283}, '934S': {'min': 3.5, 'max': 13.588888888888889}, '925S': {'min': 3.5, 'max': 13.588888888888889}, '9900S': {'min': 3.5, 'max': 4.388888888888888}, '957S': {'min': 3.5, 'max': 13.588888888888889}, '2005S': {'min': 8.450000000000001, 'max': 66.18333333333332}, '505S': {'min': 8.450000000000001, 'max': 62.33333333333333}, '941S': {'min': 94.03441280887479, 'max': 103.16870662558767}, '849S': {'min': 33.984412808874794, 'max': 93.18007910540345}, 'AURORA': {'min': 0.36244398000957395, 'max': 0.706417138979264}, '847S': {'min': 33.800000000000004, 'max': 46.0}, '920S': {'min': 33.800000000000004, 'max': 46.0}, '838S': {'min': 45.25, 'max': 130.9844128088748}, '842S': {'min': 45.25, 'max': 94.0}, '888S': {'min': 0.17727994832463145, 'max': 0.27637430943304087}, '874S': {'min': 0.17727994832463145, 'max': 0.27637430943304087}, '951S': {'min': 0.1824918421156795, 'max': 0.8306450451386137}, '848S': {'min': 0.5397239283342055, 'max': 0.9630691425017163}, '960S': {'min': 0.17727994832463145, 'max': 0.27637430943304087}, '937S': {'min': 0.17727994832463145, 'max': 0.27637430943304087}, '2015S': {'min': 0.17727994832463145, 'max': 0.27637430943304087}, '950S': {'min': 0.25658180756909016, 'max': 0.951246274770295}, '2082S': {'min': 0.5397239283342055, 'max': 0.9630691425017163}, '2014S': {'min': 4.41714468505209, 'max': 14.137964313173283}, '2009S': {'min': 4.41714468505209, 'max': 14.137964313173283}, '279S': {'min': 4.41714468505209, 'max': 14.137964313173283}, '883S': {'min': 4.41714468505209, 'max': 14.137964313173283}, '2011S': {'min': 0.1824918421156795, 'max': 0.8306450451386137}, '2032S': {'min': 0.1824918421156795, 'max': 0.8306450451386137}, '852S': {'min': 4.05329937359514, 'max': 4.734553563641627}, '885S': {'min': 0.1824918421156795, 'max': 0.8306450451386137}, '833S': {'min': 0.1824918421156795, 'max': 0.8306450451386137}, '917S': {'min': 0.1824918421156795, 'max': 0.8306450451386137}, '875S': {'min': 0.1824918421156795, 'max': 0.8306450451386137}, '860S': {'min': 0.1824918421156795, 'max': 0.8306450451386137}, 'MILLENIUM 29EDD-1': {'min': 0.5397239283342055, 'max': 0.9630691425017163}, 'VOYAGEUR 29EDD-94': {'min': 0.5397239283342055, 'max': 0.9630691425017163}, '29EDD-2': {'min': 229.8836582002502, 'max': 232.46306914250172}, '29EDD-22': {'min': 229.8836582002502, 'max': 232.46306914250172}, 'HORSESHOE 737S': {'min': 0.5397239283342055, 'max': 0.9630691425017163}, '29EDD-0020': {'min': 0.5397239283342055, 'max': 0.9630691425017163}, '29EDD-5': {'min': 0.5397239283342055, 'max': 0.9630691425017163}, '29EDD-55': {'min': 0.5397239283342055, 'max': 0.9630691425017163}, 'STEEPBANK 836S': {'min': 0.5397239283342055, 'max': 0.9630691425017163}, '29EDD-3': {'min': 0.5397239283342055, 'max': 0.9630691425017163}, '29EDD-34': {'min': 0.5397239283342055, 'max': 0.9630691425017163}, '29EDD-65': {'min': 0.5397239283342055, 'max': 0.9630691425017163}, '29EDD-18': {'min': 0.5397239283342055, 'max': 0.9630691425017163}, '29EDD-71': {'min': 0.5397239283342055, 'max': 0.9630691425017163}, '29EDD-0063': {'min': 0.5397239283342055, 'max': 0.9630691425017163}, '29EDD-0056': {'min': 0.5397239283342055, 'max': 0.9630691425017163}, 'EDD200': {'min': 0.5397239283342055, 'max': 0.9630691425017163}, 'EDD-7': {'min': 0.5397239283342055, 'max': 0.9630691425017163}, '29EDD-67': {'min': 0.5397239283342055, 'max': 0.9630691425017163}, '29EDD-93': {'min': 0.5397239283342055, 'max': 0.9630691425017163}, '29EDD-9': {'min': 0.5397239283342055, 'max': 0.9630691425017163}, '29EDD-8': {'min': 0.5397239283342055, 'max': 0.9630691425017163}, '29EDD-45': {'min': 0.5397239283342055, 'max': 0.9630691425017163}, '29EDD-33': {'min': 0.5397239283342055, 'max': 0.9630691425017163}, '29EDD-19': {'min': 0.5397239283342055, 'max': 0.9630691425017163}, '29EDD-62': {'min': 0.5397239283342055, 'max': 0.9630691425017163}, '29EDD-31': {'min': 0.5397239283342055, 'max': 0.9630691425017163}, '29EDD-10': {'min': 0.5397239283342055, 'max': 0.9630691425017163}, '29EDD-46': {'min': 0.5397239283342055, 'max': 0.9630691425017163}, '29EDD-64': {'min': 0.5397239283342055, 'max': 0.9630691425017163}, '29EDD-84': {'min': 0.5397239283342055, 'max': 0.9630691425017163}, '29EDD-83': {'min': 0.5397239283342055, 'max': 0.9630691425017163}, 'D05': {'min': 0.36244398000957395, 'max': 0.706417138979264}, 'UE-1': {'min': 0.36244398000957395, 'max': 0.706417138979264}, 'MILDRED LAKE': {'min': 0.5397239283342055, 'max': 0.9630691425017163}, '720S': {'min': 0.25658180756909016, 'max': 0.9701551626564738}, '745': {'min': 1.1515397157800489, 'max': 44.98829542113184}, '732S': {'min': 0.05179996742169078, 'max': 2.0237185094336327}, '844S': {'min': 6.051799967421691, 'max': 10.999715859306386}, '729S': {'min': 0.05179996742169078, 'max': 2.0237185094336327}, '727S': {'min': 0.05767262704018126, 'max': 3.7130628512532176}, '250P': {'min': 1.6457287736434876, 'max': 12.617253931266736}, '2091S': {'min': 74.03911517570488, 'max': 109.86380945462659}, '810S': {'min': 23.0, 'max': 56.6}, '740S': {'min': 23.0, 'max': 56.6}, '857S': {'min': 23.0, 'max': 56.6}, '733S': {'min': 28.560233350710483, 'max': 62.825228486109154}, '58S': {'min': 4.0803335692877525, 'max': 25.06304567756424}, '602S': {'min': 20.000677895828577, 'max': 25.45540823105455}, '1012S': {'min': 0.06936015025363615, 'max': 0.475357489645774}, '39S': {'min': 0.013289199546725465, 'max': 0.42079316045668763}, '348S': {'min': 0.013289199546725465, 'max': 0.42079316045668763}, '207S': {'min': 0.08157624596485452, 'max': 0.5010740284104402}, '228S': {'min': 0.08157624596485452, 'max': 0.5010740284104402}, '106S': {'min': 0.08157624596485452, 'max': 0.5010740284104402}, '414S': {'min': 0.013289199546725465, 'max': 0.42079316045668763}, '426S': {'min': 0.013289199546725465, 'max': 0.42079316045668763}, '527S': {'min': 0.013289199546725465, 'max': 0.42079316045668763}, '101S': {'min': 0.013289199546725465, 'max': 0.42079316045668763}, '983S': {'min': 0.013289199546725465, 'max': 0.42079316045668763}, '302S': {'min': 0.013289199546725465, 'max': 0.42079316045668763}, '406S': {'min': 0.013289199546725465, 'max': 0.42079316045668763}, '1029S': {'min': 0.46918720837623795, 'max': 0.9040089711632993}, '104S': {'min': 0.3998644208342856, 'max': 0.5089183537890908}, '2085S': {'min': 0.3998644208342856, 'max': 0.5089183537890908}, '975S': {'min': 0.46918720837623795, 'max': 0.9040089711632993}, '411S': {'min': 0.3998644208342856, 'max': 0.5089183537890908}, 'T793S': {'min': 10.407865244530498, 'max': 32.19858705007747}, '291S': {'min': 10.407865244530498, 'max': 32.19858705007747}, '33S': {'min': 6.553061544437839, 'max': 25.072583300457822}, '35S': {'min': 6.553061544437839, 'max': 25.072583300457822}, '123S': {'min': 6.553061544437839, 'max': 25.072583300457822}, '118S': {'min': 6.553061544437839, 'max': 25.072583300457822}, '20S': {'min': 0.6242390927649708, 'max': 1.931194946919299}, '245S': {'min': 0.6242390927649708, 'max': 1.931194946919299}, '3S': {'min': 0.3930371019631151, 'max': 1.5037941292501795}, '43S': {'min': 0.6242390927649708, 'max': 1.931194946919299}, '272S': {'min': 0.6242390927649708, 'max': 1.931194946919299}, '985S': {'min': 0.3930371019631151, 'max': 1.5037941292501795}, '437S': {'min': 0.3930371019631151, 'max': 1.5037941292501795}, '945S': {'min': 0.3930371019631151, 'max': 1.5037941292501795}, '953S': {'min': 0.3930371019631151, 'max': 1.5037941292501795}, '29S': {'min': 0.3930371019631151, 'max': 1.5037941292501795}, '177S': {'min': 0.3930371019631151, 'max': 1.5037941292501795}, '2S': {'min': 0.6242390927649708, 'max': 1.931194946919299}, '32S': {'min': 0.3930371019631151, 'max': 1.5037941292501795}, '115S': {'min': 0.3930371019631151, 'max': 1.5037941292501795}, '48S': {'min': 1.126614161197791, 'max': 11.237714438701298}, '49S': {'min': 0.0, 'max': 0.0}, '271S': {'min': 0.6242390927649708, 'max': 1.931194946919299}, '180S': {'min': 0.6242390927649708, 'max': 1.931194946919299}, '15S': {'min': 1.6941572265543021, 'max': 60.58419543014452}, '799S': {'min': 0.038939218839378786, 'max': 1.2460550028601212}, '632S': {'min': 0.038939218839378786, 'max': 1.2460550028601212}, '239S': {'min': 0.038939218839378786, 'max': 1.2460550028601212}, '396SL': {'min': 0.05758285219098411, 'max': 1.3304627497741344}, '103S': {'min': 0.0017334036167688755, 'max': 0.09653812015207366}, '383S': {'min': 0.0017334036167688755, 'max': 59.07226690660446}, '205S': {'min': 0.0017334036167688755, 'max': 0.09653812015207366}, '312S': {'min': 0.0017334036167688755, 'max': 0.09653812015207366}, '354S': {'min': 0.0017334036167688755, 'max': 27.087744129984305}, '112S': {'min': 0.023775274051730882, 'max': 34.0877441299843}, '806S': {'min': 4.023775274051731, 'max': 38.0877441299843}, '59S': {'min': 0.0017334036167688755, 'max': 0.09653812015207366}, '138S': {'min': 0.0017334036167688755, 'max': 0.09653812015207366}, '243S': {'min': 0.0017334036167688755, 'max': 53.07226690660446}, '1063S': {'min': 0.005037845991712059, 'max': 149.08440774691402}, '528S': {'min': 0.5028890060279481, 'max': 26.59401156784033}, '418S': {'min': 1.505037845991712, 'max': 90.0877441299843}, '240S': {'min': 0.004209703620031712, 'max': 0.31836053272765497}, '978S': {'min': 0.038939218839378786, 'max': 1.2460550028601212}, 'CRANBROOK B2S': {'min': 0.055849448574215234, 'max': 1.2918197777510596}, 'NATAL': {'min': 0.038939218839378786, 'max': 1.2460550028601212}, '225S': {'min': 0.2733350418766456, 'max': 8.55806214038002}, '67S': {'min': 0.7990371052413854, 'max': 9.514874056600867}, '379S': {'min': 0.14630920765921715, 'max': 3.3805020649886313}, '502S': {'min': 0.14630920765921715, 'max': 3.3805020649886313}, '415S': {'min': 0.1568272698752003, 'max': 3.5447555965883266}, '995S': {'min': 0.1568272698752003, 'max': 3.5447555965883266}, '229S': {'min': 0.008196994030625997, 'max': 0.25664614312452405}, 'BELLAMY RIVER CHUTE HYDRO': {'min': 0.0, 'max': 0.0}, 'SAINT MARY HYDRO': {'min': 0.0, 'max': 0.0}, '385S': {'min': 0.008196994030625997, 'max': 0.25664614312452405}, 'TAYLOR HYDRO PLANT': {'min': 0.008196994030625997, 'max': 0.25664614312452405}, '313S': {'min': 0.026636327439370208, 'max': 0.5009225589881754}, '344S': {'min': 0.023962176005475917, 'max': 0.2853397987635752}, '226S': {'min': 0.008196994030625997, 'max': 0.25664614312452405}, '811S': {'min': 0.8722987112062067, 'max': 34.07892196634674}, '728S': {'min': 2.326672121088263, 'max': 35.434401232631}, '722S': {'min': 1.084383413027406, 'max': 1.626575119541109}, '749S': {'min': 1.084383413027406, 'max': 1.626575119541109}, '862S': {'min': 0.8722987112062067, 'max': 34.07892196634674}, '730S': {'min': 0.049048508925999316, 'max': 1.916224667973462}, '2033S': {'min': 0.05460923052591811, 'max': 5.199503417768029}, '754S': {'min': 0.05460923052591811, 'max': 5.199503417768029}, '865S': {'min': 0.13082651256158295, 'max': 1.9924419500091268}, '790S': {'min': 0.13082651256158295, 'max': 1.9924419500091268}, '944S': {'min': 0.9186444858649976, 'max': 83.53613819932353}, '815S': {'min': 0.06097382562853187, 'max': 3.786138199323525}, '886S': {'min': 0.06097382562853187, 'max': 3.786138199323525}, '731S': {'min': 0.06097382562853187, 'max': 2.25}, '823S': {'min': 0.06097382562853187, 'max': 2.3338899156708224}, '845S': {'min': 12.934228426197965, 'max': 16.395450514778727}, '758S': {'min': 0.06097382562853187, 'max': 0.0914607384427978}, '798S': {'min': 0.049048508925999316, 'max': 1.916224667973462}, '679S': {'min': 12.802674279795202, 'max': 14.723075421764484}, '752S': {'min': 18.942807993784964, 'max': 31.563041993267042}, '808S': {'min': 5.5, 'max': 17.0}, '794S': {'min': 0.4003397564110396, 'max': 15.640453371635115}, '813S': {'min': 0.0240114298627288, 'max': 0.9380773284197879}, '725S': {'min': 0.0240114298627288, 'max': 1.4707580876069617}, '881S': {'min': 0.02675291766167873, 'max': 90.02765491999334}, '741S': {'min': 6.0347261470938784, 'max': 49.91916268816866}, '2018S': {'min': 0.034674137794559766, 'max': 1.3546474630429886}, '347S': {'min': 0.14236907665641108, 'max': 0.1469651977381385}, '346S': {'min': 0.14236907665641108, 'max': 0.1469651977381385}, '551S': {'min': 0.14236907665641108, 'max': 0.1469651977381385}, '355S': {'min': 0.14236907665641108, 'max': 0.1469651977381385}, '397S': {'min': 0.14236907665641108, 'max': 0.1469651977381385}, '364S': {'min': 7.290906787913913, 'max': 49.96798789031458}, '484S': {'min': 1.39691616622592, 'max': 44.23236827865113}, '735S': {'min': 0.025440665210601784, 'max': 1.412408505348363}, '739S': {'min': 0.022850105790692844, 'max': 1.399624182585721}, '743S': {'min': 0.025440665210601784, 'max': 1.412408505348363}, '854S': {'min': 0.022850105790692844, 'max': 1.399624182585721}, '742S': {'min': 0.025440665210601784, 'max': 1.412408505348363}, '809S': {'min': 0.022850105790692844, 'max': 1.399624182585721}, '851S': {'min': 0.025440665210601784, 'max': 1.412408505348363}, '785S': {'min': 0.025440665210601784, 'max': 1.412408505348363}, '824S': {'min': 0.025440665210601784, 'max': 1.399624182585721}, '515S': {'min': 0.025440665210601784, 'max': 3.2724813659049765}, '638S': {'min': 0.1192612666685754, 'max': 2.166666666666667}, '268S': {'min': 0.09382060145797361, 'max': 0.09684942523339227}, '887S': {'min': 0.09382060145797361, 'max': 2.263516091900059}, '659S': {'min': 0.09382060145797361, 'max': 2.166666666666667}, '996S': {'min': 0.09382060145797361, 'max': 2.166666666666667}, '661S': {'min': 0.09382060145797361, 'max': 2.166666666666667}, '738S': {'min': 0.022850105790692844, 'max': 1.399624182585721}, '259S': {'min': 0.09382060145797361, 'max': 0.09684942523339227}, '77S': {'min': 0.022850105790692844, 'max': 0.7235325347194845}, '323S': {'min': 19.093820601457974, 'max': 25.096849425233394}, '701S': {'min': 0.022850105790692844, 'max': 0.7235325347194845}, '122S': {'min': 0.022850105790692844, 'max': 0.7235325347194845}, '105S': {'min': 6.351430232228129, 'max': 27.721349538654714}, '434S': {'min': 6.204890614481146, 'max': 18.151801305563758}, '235S': {'min': 0.01575270268576689, 'max': 0.49879825534802313}, '443S': {'min': 0.01575270268576689, 'max': 0.49879825534802313}, '69S': {'min': 0.01575270268576689, 'max': 0.9648910959993353}, '338S': {'min': 0.01575270268576689, 'max': 0.49879825534802313}, '19S': {'min': 0.01575270268576689, 'max': 0.49879825534802313}, '165S': {'min': 0.01575270268576689, 'max': 0.49879825534802313}, '310P': {'min': 0.01575270268576689, 'max': 0.49879825534802313}, '510S': {'min': 0.06129800663832105, 'max': 0.14886170740486981}, '320P': {'min': 0.11164639040436539, 'max': 0.326610607828242}, '432S': {'min': 0.01575270268576689, 'max': 0.49879825534802313}, '867S': {'min': 0.01575270268576689, 'max': 0.49879825534802313}, '866S': {'min': 0.11164639040436539, 'max': 0.326610607828242}, '868S': {'min': 0.11164639040436539, 'max': 0.326610607828242}, '330p': {'min': 0.06129800663832105, 'max': 0.14886170740486981}, '21S': {'min': 0.01575270268576689, 'max': 0.49879825534802313}, '635S': {'min': 0.01575270268576689, 'max': 0.49879825534802313}, '821S': {'min': 0.01575270268576689, 'max': 0.49879825534802313}, '2739S': {'min': 0.01575270268576689, 'max': 0.49879825534802313}, '352S': {'min': 0.01575270268576689, 'max': 0.49879825534802313}, '234S': {'min': 0.01575270268576689, 'max': 0.9648910959993353}, '150S': {'min': 2.6886136903615183, 'max': 7.955018623063825}, '947S': {'min': 0.3656072392240944, 'max': 0.8878741880075286}, '993S': {'min': 0.3656072392240944, 'max': 0.8878741880075286}, '898S': {'min': 19.155050893936917, 'max': 21.155019943412146}, '167S': {'min': 18.419403819361996, 'max': 20.269051064820943}, '651S': {'min': 18.419403819361996, 'max': 20.269051064820943}, '818S': {'min': 18.419403819361996, 'max': 20.269051064820943}, '140S': {'min': 19.155050893936917, 'max': 21.155019943412146}, '157S': {'min': 19.155050893936917, 'max': 21.155019943412146}, '353S': {'min': 31.400371642112454, 'max': 34.74764594207484}, '405S': {'min': 11.5, 'max': 15.333333333333332}, '242S': {'min': 11.5, 'max': 15.333333333333332}, '282S': {'min': 11.5, 'max': 15.333333333333332}, '56S': {'min': 11.5, 'max': 15.333333333333332}, '159S': {'min': 14.692516660108451, 'max': 20.78546958080944}, '438S': {'min': 2.1046831159125325, 'max': 7.955018623063825}, 'WAP 1S': {'min': 1.9999999999999998, 'max': 2.8}, '500S': {'min': 1.9999999999999998, 'max': 2.8}, '936S': {'min': 20.307095847334747, 'max': 22.225940683771572}, '700S': {'min': 0.4795956941180283, 'max': 0.6508798705887527}, '969S': {'min': 0.4795956941180283, 'max': 0.6508798705887527}, '825S': {'min': 0.3758266915440958, 'max': 0.9126920443217503}, '826S': {'min': 0.3758266915440958, 'max': 0.9126920443217503}, '721S': {'min': 0.8554223856621241, 'max': 1.425496262277559}, '940S': {'min': 0.4795956941180283, 'max': 0.6508798705887527}, '846S': {'min': 28.022089052328795, 'max': 29.223662505154397}, '715S': {'min': 27.542493358210766, 'max': 28.74406681103637}, '717S': {'min': 27.542493358210766, 'max': 28.74406681103637}, '889S': {'min': 27.16666666666667, 'max': 27.833333333333336}, '970S': {'min': 68.6928856826388, 'max': 70.86701487647227}, '909S': {'min': 55.00000000000001, 'max': 58.00000000000001}, '837S': {'min': 123.70453648508436, 'max': 128.55895440510645}, '942S': {'min': 55.00000000000001, 'max': 58.00000000000001}, '822S': {'min': 40.7545801164564, 'max': 42.80231578647797}, '859S': {'min': 20.25, 'max': 21.25}, '1200S': {'min': 19.75, 'max': 21.0}, '170S': {'min': 18.934262932913203, 'max': 20.83561151195051}, '183S': {'min': 18.934262932913203, 'max': 20.83561151195051}, '171S': {'min': 23.24611954080783, 'max': 56.453011038356074}, '2029S': {'min': 0.23944223787387597, 'max': 3.4285752215993486}, '71S': {'min': 0.1442324649628677, 'max': 0.350267360638167}, '410S': {'min': 0.1442324649628677, 'max': 0.350267360638167}, '672S': {'min': 0.1442324649628677, 'max': 0.350267360638167}, '430S': {'min': 0.1442324649628677, 'max': 0.350267360638167}, '681S': {'min': 0.1442324649628677, 'max': 0.350267360638167}, '108S': {'min': 0.1442324649628677, 'max': 0.350267360638167}, '13S': {'min': 0.1442324649628677, 'max': 0.350267360638167}, '12S': {'min': 0.1442324649628677, 'max': 0.350267360638167}, '388S': {'min': 14.799999999999999, 'max': 19.0}, '233S': {'min': 61.39423246496287, 'max': 78.84951571394151}, '318S': {'min': 14.799999999999999, 'max': 19.350267360638167}, '342S': {'min': 0.205951194881669, 'max': 15.490947139602438}, '172S': {'min': 0.1442324649628677, 'max': 0.350267360638167}, '54S': {'min': 32.463467661848156, 'max': 51.54558079826557}, '906S': {'min': 0.1442324649628677, 'max': 0.350267360638167}, '166S': {'min': 32.463467661848156, 'max': 51.54558079826557}, '218S': {'min': 32.25, 'max': 51.25}, '861L': {'min': 0.1442324649628677, 'max': 0.350267360638167}, '452S': {'min': 0.1442324649628677, 'max': 0.350267360638167}, '308S': {'min': 0.1442324649628677, 'max': 0.350267360638167}, '365S': {'min': 0.1442324649628677, 'max': 0.350267360638167}, '127S': {'min': 0.1442324649628677, 'max': 0.350267360638167}, '402S': {'min': 45.72699730238782, 'max': 60.54558079826557}, '879S': {'min': 32.5, 'max': 38.0}, '409S': {'min': 45.72699730238782, 'max': 60.54558079826557}, '408S': {'min': 12.5, 'max': 22.75}, '422S': {'min': 32.463467661848156, 'max': 51.54558079826557}, '439S': {'min': 14.799999999999999, 'max': 19.0}, '709S': {'min': 15.631817174232046, 'max': 27.87240730812179}, '707S': {'min': 2.3182961252043657, 'max': 3.146259027063068}, '223S': {'min': 0.0523455099391812, 'max': 1.1232593208213308}, '395S': {'min': 0.9582161305003274, 'max': 1.8272918159575535}, '956S': {'min': 1.1250712197187775, 'max': 2.006065125834465}, '777S': {'min': 8.080297791570695, 'max': 8.924190152902817}, '819S': {'min': 6.850469339280344, 'max': 7.5657233330599345}, '289S': {'min': 58.347583571509034, 'max': 265.52911417164023}, '325SL': {'min': 122.59721609572655, 'max': 265.52911417164023}, '149S': {'min': 58.347583571509034, 'max': 265.52911417164023}, '89S': {'min': 0.30648355621129386, 'max': 0.7442928077306763}, 'DOME': {'min': 0.558220155039965, 'max': 1.6330185282232796}, '805S': {'min': 0.30648355621129386, 'max': 0.7442928077306763}, 'PETROLIA': {'min': 0.30648355621129386, 'max': 0.7442928077306763}, '367S': {'min': 0.558220155039965, 'max': 1.6330185282232796}, 'RIVERVIEW': {'min': 0.30648355621129386, 'max': 0.7442928077306763}, 'POUNDMAKER': {'min': 0.30648355621129386, 'max': 0.7442928077306763}, '37S': {'min': 0.30648355621129386, 'max': 0.7442928077306763}, '305S': {'min': 0.558220155039965, 'max': 1.6330185282232796}, 'ARGYLL': {'min': 0.30648355621129386, 'max': 0.7442928077306763}, 'BELLAMY': {'min': 0.30648355621129386, 'max': 0.7442928077306763}, '45S': {'min': 0.30648355621129386, 'max': 0.7442928077306763}, '987S': {'min': 0.30648355621129386, 'max': 0.7442928077306763}, '657S': {'min': 0.30648355621129386, 'max': 0.7442928077306763}, 'LAMBTON': {'min': 0.30648355621129386, 'max': 0.7442928077306763}, 'EAST INDUSTRIAL': {'min': 0.30648355621129386, 'max': 0.7442928077306763}, '38S': {'min': 0.30648355621129386, 'max': 0.7442928077306763}, '133S': {'min': 0.0, 'max': 0.0}, 'AT PLASTIC 4RS': {'min': 5.97315022287796, 'max': 6.410959474397343}, 'AT PLASTIC 5RS': {'min': 5.97315022287796, 'max': 6.410959474397343}, '95S': {'min': 5.97315022287796, 'max': 6.410959474397343}, '293S': {'min': 0.30648355621129386, 'max': 0.7442928077306763}, '216S': {'min': 0.30648355621129386, 'max': 0.7442928077306763}, '317S': {'min': 0.30648355621129386, 'max': 0.7442928077306763}, '184S': {'min': 0.30648355621129386, 'max': 0.7442928077306763}, '185S': {'min': 0.30648355621129386, 'max': 0.7442928077306763}, '286S': {'min': 0.30648355621129386, 'max': 0.7442928077306763}, '522S': {'min': 0.30648355621129386, 'max': 0.7442928077306763}, '14S': {'min': 0.558220155039965, 'max': 2.4939385718210425}, '155S': {'min': 0.699909958054999, 'max': 3.185161403205086}, 'CASTLE DOWNS': {'min': 0.30648355621129386, 'max': 0.7442928077306763}, 'VICTORIA': {'min': 0.30648355621129386, 'max': 0.7442928077306763}, '99S': {'min': 0.30648355621129386, 'max': 0.7442928077306763}, '92S': {'min': 0.30648355621129386, 'max': 0.7442928077306763}, '595S': {'min': 0.558220155039965, 'max': 1.6330185282232796}, 'INLAND CEMENT': {'min': 0.30648355621129386, 'max': 0.7442928077306763}, '191S': {'min': 0.30648355621129386, 'max': 0.7442928077306763}, '420S': {'min': 0.30648355621129386, 'max': 0.7442928077306763}, '746S': {'min': 0.30648355621129386, 'max': 0.7442928077306763}, 'MEADOWLARK': {'min': 5.45200614718408, 'max': 11.707628087681412}, 'GARNEAU': {'min': 5.0, 'max': 11.0}, 'WOODCROFT': {'min': 0.30648355621129386, 'max': 0.7442928077306763}, 'ROSSDALE': {'min': 0.30648355621129386, 'max': 0.7442928077306763}, 'STRATHCONA': {'min': 0.558220155039965, 'max': 1.6330185282232796}, 'NAMAO': {'min': 0.30648355621129386, 'max': 0.7442928077306763}, '331S': {'min': 3.3033561663909152, 'max': 15.032965942457789}, '40S': {'min': 3.3033561663909152, 'max': 15.032965942457789}, '285S': {'min': 3.4165321811791376, 'max': 3.4165321811791376}, '538S': {'min': 3.3033561663909152, 'max': 15.032965942457789}, '86S': {'min': 0.26416996607075216, 'max': 1.2021888960585954}, '288S': {'min': 0.26416996607075216, 'max': 1.2021888960585954}, '429S': {'min': 0.26416996607075216, 'max': 1.2021888960585954}, '6500S': {'min': 0.5373906376908525, 'max': 1.4754095676786956}, '542S': {'min': 0.27322067162010033, 'max': 0.27322067162010033}, '197S': {'min': 0.5373906376908525, 'max': 1.4754095676786956}, '301S': {'min': 0.27322067162010033, 'max': 0.27322067162010033}, '299S': {'min': 0.27322067162010033, 'max': 0.27322067162010033}, '964S': {'min': 0.26416996607075216, 'max': 1.2021888960585954}, '283S': {'min': 12.904043226788632, 'max': 56.320778103899215}, '384S': {'min': 0.17448400114580245, 'max': 0.5104358991287725}, '68S': {'min': 0.0032050297622111534, 'max': 0.7795354157214719}, '62S': {'min': 0.0032050297622111534, 'max': 0.7795354157214719}, '294S': {'min': 0.0032050297622111534, 'max': 0.7795354157214719}, '445S': {'min': 0.0032050297622111534, 'max': 3.736595179653772}, '358S': {'min': 0.0032050297622111534, 'max': 3.0}, '477S': {'min': 0.3318874753330588, 'max': 3.0}, '489S': {'min': 0.3318874753330588, 'max': 3.8947256345908685}, '178S': {'min': 0.1511231141261751, 'max': 0.9282587925626947}, '359S': {'min': 0.16627386563211805, 'max': 0.9282587925626947}, '61S': {'min': 0.0032050297622111534, 'max': 0.7795354157214719}, '454S': {'min': 0.17448400114580245, 'max': 0.5104358991287725}, '131S': {'min': 0.0, 'max': 0.0}, '262S': {'min': 7.7834928583484215, 'max': 33.971706886278106}, '263S': {'min': 3.1223066670328903, 'max': 20.303853502048096}, '581S': {'min': 3.1223066670328903, 'max': 20.303853502048096}, '634S': {'min': 8.494313222401335, 'max': 25.67586005741654}, '378S': {'min': 5.547069851477295, 'max': 6.136084982648911}, '304S': {'min': 3.1223066670328903, 'max': 20.303853502048096}, '575S': {'min': 5.3720065553684435, 'max': 5.3720065553684435}, '412S': {'min': 5.3720065553684435, 'max': 5.3720065553684435}, '531S': {'min': 0.17506329610885163, 'max': 0.7640784272804682}, '87S': {'min': 4.6028663975628215, 'max': 20.946797834350402}, '247S': {'min': 142.41412841146126, 'max': 246.23063405723778}, '198S': {'min': 4.6028663975628215, 'max': 20.946797834350402}, '217S': {'min': 4.6028663975628215, 'max': 20.946797834350402}, 'RD14S': {'min': 4.6028663975628215, 'max': 20.946797834350402}, '194S': {'min': 4.6028663975628215, 'max': 20.946797834350402}, 'RD15S': {'min': 4.6028663975628215, 'max': 20.946797834350402}, '209S': {'min': 4.6028663975628215, 'max': 20.946797834350402}, '17S': {'min': 0.4917416233834321, 'max': 2.1462475263206207}, '63S': {'min': 0.6023324042924754, 'max': 2.74110391482865}, '535S': {'min': 18.636353298612566, 'max': 32.22181071792287}, '536S': {'min': 18.636353298612566, 'max': 32.22181071792287}, '276S': {'min': 18.636353298612566, 'max': 32.22181071792287}, '332S': {'min': 18.636353298612566, 'max': 32.22181071792287}, '482S': {'min': 18.636353298612566, 'max': 32.22181071792287}, '212S': {'min': 18.636353298612566, 'max': 32.22181071792287}, '580S': {'min': 1.2655927017097772, 'max': 2.74110391482865}, '297S': {'min': 0.4917416233834321, 'max': 2.1462475263206207}, '534S': {'min': 0.4917416233834321, 'max': 2.1462475263206207}, '55S': {'min': 9.410411655364161, 'max': 18.70410909627009}, '214S': {'min': 3.884922557503602, 'max': 12.161315727842565}, '287S': {'min': 0.34951267274035736, 'max': 0.6829023063869525}, '256S': {'min': 8.755986889263115, 'max': 8.755986889263115}, '281S': {'min': 0.2853406654890352, 'max': 1.2453932478825323}, '238S': {'min': 9.04132755475215, 'max': 10.001380137145645}, '802S': {'min': 3.4749310141537264, 'max': 44.12597950438124}, '763S': {'min': 3.4749310141537264, 'max': 44.12597950438124}, 'nan': {'min': 0.0, 'max': 0.0}, '766S': {'min': 0.3812797143090247, 'max': 0.8915462275669687}, '767S': {'min': 0.03771699252684689, 'max': 0.6595071369629247}, '959S': {'min': 0.03771699252684689, 'max': 0.6595071369629247}, '776S': {'min': 0.07815679774616097, 'max': 0.9924643802792343}, '772S': {'min': 0.03771699252684689, 'max': 0.6595071369629247}, '2037S': {'min': 0.03771699252684689, 'max': 0.6595071369629247}, '910S': {'min': 0.03771699252684689, 'max': 0.6595071369629247}, '768S': {'min': 0.07815679774616097, 'max': 15.674936178889077}, '770S': {'min': 0.25, 'max': 15.25}, '114S': {'min': 0.25, 'max': 15.25}, '948S': {'min': 0.6475737770465964, 'max': 16.0864381914197}, '615S': {'min': 0.030733987025908627, 'max': 0.6595071369629247}, '774S': {'min': 0.03771699252684689, 'max': 0.6595071369629247}, '932S': {'min': 0.03771699252684689, 'max': 0.6595071369629247}, '903S': {'min': 0.03771699252684689, 'max': 0.6595071369629247}, '771S': {'min': 0.03771699252684689, 'max': 0.6595071369629247}, '892S': {'min': 0.03771699252684689, 'max': 0.6595071369629247}, '508S': {'min': 0.03771699252684689, 'max': 0.6595071369629247}, '773S': {'min': 0.03771699252684689, 'max': 0.6595071369629247}, '775S': {'min': 0.07815679774616097, 'max': 0.9924643802792343}, '759S': {'min': 0.030733987025908627, 'max': 0.6595071369629247}, '873S': {'min': 0.3812797143090247, 'max': 0.8915462275669687}, '769S': {'min': 0.3812797143090247, 'max': 0.8915462275669687}, '778S': {'min': 0.3812797143090247, 'max': 0.8915462275669687}, '972S': {'min': 0.03065221247766258, 'max': 0.6577523728268976}, '755S': {'min': 0.03065221247766258, 'max': 0.6577523728268976}, '757S': {'min': 0.03065221247766258, 'max': 0.6577523728268976}, '863S': {'min': 0.03065221247766258, 'max': 0.6577523728268976}, '764S': {'min': 0.03065221247766258, 'max': 0.6577523728268976}, '843S': {'min': 0.03065221247766258, 'max': 0.6577523728268976}, '765S': {'min': 0.3802652355703332, 'max': 0.8891740722739278}, '316S': {'min': 4.723780545542447, 'max': 46.126620318073925}, '199S': {'min': 20.22970980007112, 'max': 36.65795083544934}, '64S': {'min': 0.5666423253740458, 'max': 2.578684934301168}, '653S': {'min': 0.5666423253740458, 'max': 2.9544458169449572}, '284S': {'min': 0.5666423253740458, 'max': 2.9544458169449572}, '74S': {'min': 3.2282575400537996, 'max': 6.30759537967177}, 'SS-25': {'min': 3.2282575400537996, 'max': 6.30759537967177}, 'SS-65': {'min': 3.2282575400537996, 'max': 6.30759537967177}, '42S': {'min': 2.635535780796264, 'max': 12.88615120567112}, '5S': {'min': 6.761643472084062, 'max': 14.91705752685808}, 'SS-2': {'min': 6.761643472084062, 'max': 14.91705752685808}, 'SS-35': {'min': 2.635535780796264, 'max': 12.88615120567112}, 'SS-6': {'min': 2.635535780796264, 'max': 12.88615120567112}, 'SS-41': {'min': 6.783063890993597, 'max': 14.691205915628872}, 'SS-54': {'min': 3.2282575400537996, 'max': 6.30759537967177}, 'SS-26': {'min': 3.2282575400537996, 'max': 6.30759537967177}, 'SS-24': {'min': 3.2282575400537996, 'max': 6.30759537967177}, 'SS-31': {'min': 3.2282575400537996, 'max': 6.30759537967177}, 'SS-40': {'min': 6.783063890993597, 'max': 14.691205915628872}, 'SS-32': {'min': 3.2282575400537996, 'max': 6.30759537967177}, 'SS-9': {'min': 6.761643472084062, 'max': 14.91705752685808}, 'SS-33': {'min': 6.783063890993597, 'max': 14.691205915628872}, 'SS-43': {'min': 7.085050680432666, 'max': 14.91705752685808}, 'SS-23': {'min': 3.2282575400537996, 'max': 6.30759537967177}, 'SS-28': {'min': 2.635535780796264, 'max': 12.88615120567112}, 'SS-10': {'min': 2.635535780796264, 'max': 12.88615120567112}, 'SS-12': {'min': 7.085050680432666, 'max': 14.91705752685808}, '44S': {'min': 2.635535780796264, 'max': 12.88615120567112}, 'SS-21': {'min': 2.635535780796264, 'max': 12.88615120567112}, 'SS-36': {'min': 6.783063890993597, 'max': 14.691205915628872}, 'SS-16': {'min': 6.783063890993597, 'max': 14.691205915628872}, 'SS-27': {'min': 7.085050680432666, 'max': 14.91705752685808}, 'SS-13': {'min': 6.761643472084062, 'max': 14.91705752685808}, 'SS-22': {'min': 3.2282575400537996, 'max': 6.30759537967177}, 'SS-39': {'min': 3.2282575400537996, 'max': 6.30759537967177}, 'SS-38': {'min': 3.2282575400537996, 'max': 6.30759537967177}, 'SS-37': {'min': 3.2282575400537996, 'max': 6.30759537967177}, 'SS-5': {'min': 6.761643472084062, 'max': 14.91705752685808}, 'SS-3': {'min': 6.761643472084062, 'max': 14.91705752685808}, 'SS-8': {'min': 6.761643472084062, 'max': 14.91705752685808}, 'SS-1': {'min': 7.085050680432666, 'max': 14.91705752685808}, 'SS-20': {'min': 2.635535780796264, 'max': 12.88615120567112}, 'SS-15': {'min': 6.783063890993597, 'max': 14.691205915628872}, 'SS-34': {'min': 2.635535780796264, 'max': 12.88615120567112}, 'SS-14': {'min': 3.2282575400537996, 'max': 6.30759537967177}, 'SS-11': {'min': 3.2282575400537996, 'max': 6.30759537967177}, 'SS-162': {'min': 3.2282575400537996, 'max': 6.30759537967177}, 'SS-47': {'min': 3.2282575400537996, 'max': 6.30759537967177}, '186S': {'min': 13.825094659997681, 'max': 38.36426074174623}, 'BALZAC CO-GEN': {'min': 10.596837119943881, 'max': 15.2261682519493}, '102S': {'min': 7.896821988430003, 'max': 14.505822479992624}, '520S': {'min': 7.896821988430003, 'max': 14.505822479992624}, '511S': {'min': 7.896821988430003, 'max': 14.505822479992624}, 'CALGARY ENERGY CENTER CEC': {'min': 4.356522830573961, 'max': 8.51207901991145}, '391S': {'min': 18.656919336157525, 'max': 29.057742081752224}, '419S': {'min': 4.356522830573961, 'max': 8.51207901991145}, '142S': {'min': 45.55318796424824, 'max': 61.34790241945528}, '65S': {'min': 3.1884433203989953, 'max': 6.22980357253618}, '392S': {'min': 3.1884433203989953, 'max': 6.22980357253618}, '237S': {'min': 0.5737058231142149, 'max': 1.1209465645995844}, '678S': {'min': 8.196516785888862, 'max': 11.038505413820504}, '512S': {'min': 0.5737058231142149, 'max': 1.1209465645995844}, '266S': {'min': 0.5692752473363136, 'max': 1.9801124250785844}, '255S': {'min': 0.1249057018719894, 'max': 4.933572221438546}, '928S': {'min': 0.1028320828551344, 'max': 4.895857406939805}, '604S': {'min': 0.1028320828551344, 'max': 4.816932371067043}, '349S': {'min': 0.1028320828551344, 'max': 4.895857406939805}, '554S': {'min': 0.0025701162848451357, 'max': 1.0859302614325845}, '485S': {'min': 0.0025701162848451357, 'max': 1.0859302614325845}, '151S': {'min': 118.2506487150904, 'max': 253.95163085587532}, '525S': {'min': 3.258395015680423, 'max': 4.3445266875738975}, '269S': {'min': 3.258395015680423, 'max': 4.3445266875738975}, '253S': {'min': 3.5051094369375964, 'max': 4.720440463475874}, '504S': {'min': 0.014413778939913538, 'max': 1.3098759185434006}, '179S': {'min': 5.969763201130967, 'max': 10.047823050672802}, '428S': {'min': 2.393676360208821, 'max': 5.344501528397282}, 'CAVALIER': {'min': 2.393676360208821, 'max': 5.344501528397282}, '431S': {'min': 2.393676360208821, 'max': 5.344501528397282}, '801S': {'min': 0.05799875642188916, 'max': 1.014147503091172}, '807S': {'min': 0.05799875642188916, 'max': 1.014147503091172}, '946S': {'min': 0.05799875642188916, 'max': 1.014147503091172}, '963S': {'min': 0.05799875642188916, 'max': 1.014147503091172}, '803S': {'min': 0.12018447844079472, 'max': 1.5261476589959864}, '804S': {'min': 0.031531891893073184, 'max': 1.1787655338115781}, '609S': {'min': 0.031531891893073184, 'max': 1.1787655338115781}, '121S': {'min': 0.5808034613621833, 'max': 48.22106599457945}, '356S': {'min': 0.0013519993234148875, 'max': 0.5306722880492528}, '28S': {'min': 0.010608465136939648, 'max': 0.9640617546246216}, '324S': {'min': 0.0013519993234148875, 'max': 0.7324724981701147}, '2075S': {'min': 0.0013519993234148875, 'max': 1.7448648638774642}, '339S': {'min': 0.011611738407355451, 'max': 0.9640617546246216}, '227S': {'min': 0.011611738407355451, 'max': 0.9640617546246216}, '498S': {'min': 0.34868102880850016, 'max': 20.735635700790404}, '435S': {'min': 0.010608465136939648, 'max': 0.9640617546246216}, '132SL': {'min': 0.0027916588669403223, 'max': 0.9640617546246216}, '562S': {'min': 0.04189426902369062, 'max': 14.467621019885346}, '840S': {'min': 0.04189426902369062, 'max': 14.467621019885346}, '163S': {'min': 0.04189426902369062, 'max': 14.467621019885346}, '204S': {'min': 0.04189426902369062, 'max': 14.467621019885346}, '394S': {'min': 0.04189426902369062, 'max': 14.467621019885346}, '341S': {'min': 0.04189426902369062, 'max': 14.467621019885346}, '893S': {'min': 0.04189426902369062, 'max': 14.467621019885346}, '914S': {'min': 0.6032500585466359, 'max': 14.467621019885346}, '164S': {'min': 0.04189426902369062, 'max': 14.467621019885346}, '275S': {'min': 0.04189426902369062, 'max': 14.467621019885346}, '230S': {'min': 0.04189426902369062, 'max': 14.467621019885346}, '545S': {'min': 1.8603748165499856, 'max': 39.920966580304395}, '650S': {'min': 0.05579043638637875, 'max': 1.1971824853077304}, '648S': {'min': 0.05579043638637875, 'max': 1.1971824853077304}, '213S': {'min': 0.05579043638637875, 'max': 1.1971824853077304}, '899S': {'min': 0.05579043638637875, 'max': 1.1971824853077304}, '267S': {'min': 0.05579043638637875, 'max': 1.1971824853077304}, '277S': {'min': 0.05579043638637875, 'max': 1.1971824853077304}, '574S': {'min': 0.2667332109219447, 'max': 5.7237108911305965}, '377S': {'min': 0.2667332109219447, 'max': 5.7237108911305965}, '329S': {'min': 0.2667332109219447, 'max': 5.7237108911305965}, '478S': {'min': 0.2667332109219447, 'max': 5.7237108911305965}, '594S': {'min': 0.2667332109219447, 'max': 5.7237108911305965}, '296S': {'min': 0.2667332109219447, 'max': 5.7237108911305965}, '656S': {'min': 0.2667332109219447, 'max': 5.7237108911305965}, '526S': {'min': 0.2667332109219447, 'max': 5.7237108911305965}, '252S': {'min': 0.2667332109219447, 'max': 5.7237108911305965}, '51S': {'min': 0.2667332109219447, 'max': 5.7237108911305965}, '137S': {'min': 0.2667332109219447, 'max': 5.7237108911305965}, '710S': {'min': 2.1593588661727647, 'max': 2.930558461234466}, '751S': {'min': 3.144946971685421, 'max': 17.467244065418797}, '716S': {'min': 0.6774305867501625, 'max': 14.53668560418433}, '918S': {'min': 0.4244095495201305, 'max': 2.3571987864678343}, '705S': {'min': 0.2914047619548711, 'max': 0.39547789122446786}, '880S': {'min': 0.0914190327348237, 'max': 1.9617208952433662}, '706S': {'min': 0.2914047619548711, 'max': 0.39547789122446786}, 'MHS-3': {'min': 24.0, 'max': 42.0}, '321S': {'min': 0.003143895382233172, 'max': 4.057452169657548}, 'MHS-9': {'min': 0.003143895382233172, 'max': 4.057452169657548}, 'MHS-6': {'min': 24.0, 'max': 42.0}, 'MHS-2': {'min': 24.575401689353765, 'max': 42.94167306842864}, 'MH69S-5': {'min': 24.575401689353765, 'max': 42.94167306842864}, 'MHS-7': {'min': 0.003143895382233172, 'max': 4.057452169657548}, 'CMH PLANT': {'min': 24.0, 'max': 42.0}, '895S': {'min': 0.043852577568996694, 'max': 7.717554397989933}, '244S': {'min': 0.0006465030672346507, 'max': 0.8343646826371851}, '251S': {'min': 0.0006465030672346507, 'max': 0.8288121469470633}, '1018S': {'min': 0.0006465030672346507, 'max': 0.8288121469470633}, '523S': {'min': 0.0006465030672346507, 'max': 0.8343646826371851}, '404S': {'min': 0.0006465030672346507, 'max': 0.8343646826371851}, '649S': {'min': 0.01922202857482186, 'max': 0.8343646826371851}, '83S': {'min': 17.512638234941313, 'max': 150.97461080235863}, '158S': {'min': 0.014798391945511642, 'max': 25.202500729368364}, '447S': {'min': 0.014798391945511642, 'max': 25.202500729368364}, '421S': {'min': 0.014798391945511642, 'max': 7.927440542800939}, '257S': {'min': 0.5380931586614597, 'max': 9.542745623273332}, '336S': {'min': 0.0017230336402761514, 'max': 1.6829817978075048}, '368S': {'min': 0.0017230336402761514, 'max': 2.830655506264499}, '134S': {'min': 0.0017230336402761514, 'max': 0.6604943357205163}, '135S': {'min': 0.0017230336402761514, 'max': 0.6604943357205163}, '107S': {'min': 0.0017230336402761514, 'max': 14.060097723243649}, '370S': {'min': 0.2856428851460683, 'max': 12.58806565468917}, '674S': {'min': 1.7395348304995628, 'max': 62.20692889459565}, '111S': {'min': 0.2856428851460683, 'max': 12.58806565468917}, '593S': {'min': 0.38660216980677353, 'max': 22.755788427740754}, '146S': {'min': 0.2856428851460683, 'max': 12.58806565468917}, '241S': {'min': 0.2856428851460683, 'max': 12.58806565468917}, '492S': {'min': 0.2856428851460683, 'max': 12.58806565468917}, '618S': {'min': 0.08115618690758003, 'max': 4.776933920971281}, '314S': {'min': 0.0, 'max': 0.0}, '139S': {'min': 0.23724292433871885, 'max': 3.6892722342963222}, '254S': {'min': 0.23724292433871885, 'max': 2.825070989939406}, '315S': {'min': 0.23724292433871885, 'max': 2.825070989939406}, '120S': {'min': 0.004222672726667962, 'max': 1.7841714497720045}}\n"
     ]
    }
   ],
   "execution_count": 11
  },
  {
   "metadata": {
    "ExecuteTime": {
     "end_time": "2025-04-05T19:13:33.133491Z",
     "start_time": "2025-04-05T19:13:33.118462Z"
    }
   },
   "cell_type": "code",
   "source": [
    "max_diff = None\n",
    "station_with_max_diff = None\n",
    "\n",
    "for substation, stats in substation_stats.items():\n",
    "    diff = stats[\"max\"] - stats[\"min\"]\n",
    "    if max_diff is None or diff > max_diff:\n",
    "        max_diff = diff\n",
    "        station_with_max_diff = substation\n",
    "\n",
    "print(\"Station with maximum difference:\", station_with_max_diff)\n",
    "print(\"Maximum difference:\", max_diff)\n"
   ],
   "id": "5a5083994852a1c2",
   "outputs": [
    {
     "name": "stdout",
     "output_type": "stream",
     "text": [
      "Station with maximum difference: 289S\n",
      "Maximum difference: 207.1815306001312\n"
     ]
    }
   ],
   "execution_count": 12
  },
  {
   "metadata": {
    "ExecuteTime": {
     "end_time": "2025-04-05T19:14:04.675742Z",
     "start_time": "2025-04-05T19:13:33.150457Z"
    }
   },
   "cell_type": "code",
   "source": [
    "from datetime import datetime\n",
    "target_substation = station_with_max_diff\n",
    "\n",
    "final_dictionary = {}\n",
    "# Iterate over each CSV file\n",
    "for file_path in csv_files:\n",
    "    filename = os.path.basename(file_path).replace(\".csv\", \"\")\n",
    "\n",
    "    parts = filename.split(\"_\")\n",
    "    date_str = parts[1]\n",
    "    time_str = parts[2]\n",
    "\n",
    "    # Combine date and time strings and parse them into a datetime object\n",
    "    dt = datetime.strptime(date_str + time_str, \"%Y%m%d%H%M\")\n",
    "\n",
    "    substation_to_load = process_per_time_point(file_path)\n",
    "    final_dictionary[dt] = substation_to_load[target_substation]\n"
   ],
   "id": "f498d1353ad573c1",
   "outputs": [],
   "execution_count": 13
  },
  {
   "metadata": {
    "ExecuteTime": {
     "end_time": "2025-04-05T19:14:04.707822Z",
     "start_time": "2025-04-05T19:14:04.692787Z"
    }
   },
   "cell_type": "code",
   "source": "print(final_dictionary)",
   "id": "c56c7ab7749dc42b",
   "outputs": [
    {
     "name": "stdout",
     "output_type": "stream",
     "text": [
      "{datetime.datetime(2025, 4, 4, 17, 27): 182.68693870486402, datetime.datetime(2025, 4, 4, 17, 34): 181.04461857517782, datetime.datetime(2025, 4, 4, 17, 48): 183.70970013392025, datetime.datetime(2025, 4, 4, 18, 38): 235.85973834688593, datetime.datetime(2025, 4, 4, 19, 48): 219.0387649920208, datetime.datetime(2025, 4, 4, 20, 12): 219.49069233900596, datetime.datetime(2025, 4, 4, 21, 4): 265.52911417164023, datetime.datetime(2025, 4, 4, 21, 35): 261.2672911030434, datetime.datetime(2025, 4, 4, 21, 49): 239.12813233178122, datetime.datetime(2025, 4, 4, 21, 56): 237.57800280990512, datetime.datetime(2025, 4, 4, 22, 14): 238.31879019621886, datetime.datetime(2025, 4, 4, 22, 33): 209.68937036379057, datetime.datetime(2025, 4, 4, 22, 43): 203.54009482889305, datetime.datetime(2025, 4, 4, 22, 50): 197.32187019791346, datetime.datetime(2025, 4, 4, 22, 57): 192.241411015326, datetime.datetime(2025, 4, 4, 23, 14): 89.23346781048652, datetime.datetime(2025, 4, 4, 23, 32): 79.39154121374169, datetime.datetime(2025, 4, 4, 23, 42): 71.18993571645431, datetime.datetime(2025, 4, 4, 23, 48): 66.15961767811807, datetime.datetime(2025, 4, 4, 23, 55): 66.2689724180819, datetime.datetime(2025, 4, 5, 0, 13): 58.4568487092834, datetime.datetime(2025, 4, 5, 0, 35): 58.67537898483212, datetime.datetime(2025, 4, 5, 0, 47): 58.4568487092834, datetime.datetime(2025, 4, 5, 0, 54): 58.78464412260648, datetime.datetime(2025, 4, 5, 1, 0): 58.4568487092834, datetime.datetime(2025, 4, 5, 1, 18): 58.4568487092834, datetime.datetime(2025, 4, 5, 1, 28): 58.56611384705776, datetime.datetime(2025, 4, 5, 1, 36): 58.4568487092834, datetime.datetime(2025, 4, 5, 1, 42): 58.4568487092834, datetime.datetime(2025, 4, 5, 1, 49): 58.4568487092834, datetime.datetime(2025, 4, 5, 1, 55): 58.56611384705776, datetime.datetime(2025, 4, 5, 2, 13): 58.4568487092834, datetime.datetime(2025, 4, 5, 2, 32): 58.347583571509034, datetime.datetime(2025, 4, 5, 2, 44): 58.4568487092834, datetime.datetime(2025, 4, 5, 2, 50): 58.56611384705776, datetime.datetime(2025, 4, 5, 2, 57): 58.4568487092834, datetime.datetime(2025, 4, 5, 3, 13): 58.56611384705776, datetime.datetime(2025, 4, 5, 3, 27): 58.56611384705776, datetime.datetime(2025, 4, 5, 3, 35): 58.56611384705776, datetime.datetime(2025, 4, 5, 3, 41): 58.67537898483212, datetime.datetime(2025, 4, 5, 3, 48): 58.56611384705776, datetime.datetime(2025, 4, 5, 3, 55): 58.56611384705776, datetime.datetime(2025, 4, 5, 4, 9): 58.56611384705776, datetime.datetime(2025, 4, 5, 4, 30): 58.67537898483212, datetime.datetime(2025, 4, 5, 4, 41): 63.70157532245275, datetime.datetime(2025, 4, 5, 4, 48): 63.92010559800147, datetime.datetime(2025, 4, 5, 4, 54): 66.21467349126306, datetime.datetime(2025, 4, 5, 5, 7): 71.78719551775549, datetime.datetime(2025, 4, 5, 5, 21): 71.78719551775549, datetime.datetime(2025, 4, 5, 5, 27): 71.89646065552986, datetime.datetime(2025, 4, 5, 5, 36): 71.78719551775549, datetime.datetime(2025, 4, 5, 5, 42): 71.89646065552986, datetime.datetime(2025, 4, 5, 5, 48): 71.89646065552986, datetime.datetime(2025, 4, 5, 5, 55): 71.56866524220678, datetime.datetime(2025, 4, 5, 6, 17): 69.16483221117082, datetime.datetime(2025, 4, 5, 6, 51): 150.86673426839076, datetime.datetime(2025, 4, 5, 7, 12): 151.53690735137158, datetime.datetime(2025, 4, 5, 7, 30): 151.479324354535, datetime.datetime(2025, 4, 5, 7, 39): 151.45844546036534, datetime.datetime(2025, 4, 5, 7, 45): 147.94011511263892, datetime.datetime(2025, 4, 5, 7, 52): 135.46544941120916, datetime.datetime(2025, 4, 5, 7, 58): 135.86204511542823, datetime.datetime(2025, 4, 5, 8, 14): 132.69530755307338, datetime.datetime(2025, 4, 5, 8, 29): 127.50425562127295, datetime.datetime(2025, 4, 5, 8, 38): 125.19872586330585, datetime.datetime(2025, 4, 5, 8, 45): 123.50540913598275, datetime.datetime(2025, 4, 5, 8, 52): 122.59721609572655, datetime.datetime(2025, 4, 5, 8, 58): 123.77816134646852, datetime.datetime(2025, 4, 5, 9, 15): 125.31450702755195, datetime.datetime(2025, 4, 5, 9, 28): 124.3527240887249}\n"
     ]
    }
   ],
   "execution_count": 14
  },
  {
   "metadata": {
    "ExecuteTime": {
     "end_time": "2025-04-05T19:14:04.849630Z",
     "start_time": "2025-04-05T19:14:04.723973Z"
    }
   },
   "cell_type": "code",
   "source": [
    "import matplotlib.pyplot as plt\n",
    "import matplotlib.dates as mdates\n",
    "\n",
    "sorted_items = sorted(final_dictionary.items())\n",
    "times, values = zip(*sorted_items)\n",
    "\n",
    "plt.figure(figsize=(10, 5))\n",
    "plt.plot(times, values, marker='o', linestyle='-')\n",
    "plt.xlabel(\"Time\")\n",
    "plt.ylabel(\"Load\")\n",
    "plt.title(\"Load Over Time\")\n",
    "plt.gcf().autofmt_xdate()  # Rotate date labels for clarity\n",
    "\n",
    "plt.gca().xaxis.set_major_formatter(mdates.DateFormatter('%Y-%m-%d %H:%M'))\n",
    "plt.show()\n"
   ],
   "id": "f09776f9595f6dd6",
   "outputs": [
    {
     "data": {
      "text/plain": [
       "<Figure size 1000x500 with 1 Axes>"
      ],
      "image/png": "[encoded data removed]"
     },
     "metadata": {},
     "output_type": "display_data"
    }
   ],
   "execution_count": 15
  }
 ],
 "metadata": {
  "kernelspec": {
   "display_name": "Python 3",
   "language": "python",
   "name": "python3"
  },
  "language_info": {
   "codemirror_mode": {
    "name": "ipython",
    "version": 2
   },
   "file_extension": ".py",
   "mimetype": "text/x-python",
   "name": "python",
   "nbconvert_exporter": "python",
   "pygments_lexer": "ipython2",
   "version": "2.7.6"
  }
 },
 "nbformat": 4,
 "nbformat_minor": 5
}
