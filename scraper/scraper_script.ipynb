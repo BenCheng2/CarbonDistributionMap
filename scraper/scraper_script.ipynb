{
 "cells": [
  {
   "metadata": {
    "ExecuteTime": {
     "end_time": "2025-03-26T22:34:24.671113Z",
     "start_time": "2025-03-26T22:34:24.505035Z"
    }
   },
   "cell_type": "code",
   "source": [
    "import requests\n",
    "from bs4 import BeautifulSoup, NavigableString\n",
    "import re\n",
    "import csv\n",
    "from datetime import datetime, timedelta\n",
    "import pytz"
   ],
   "id": "4a74a313a059453",
   "outputs": [],
   "execution_count": 1
  },
  {
   "metadata": {
    "ExecuteTime": {
     "end_time": "2025-03-26T22:34:24.988355Z",
     "start_time": "2025-03-26T22:34:24.674233Z"
    }
   },
   "cell_type": "code",
   "source": [
    "# The following rows are not for the generator supply\n",
    "excluded_first_col = {\n",
    "    'COGENERATION', 'WIND', 'COMBINED CYCLE', 'GAS FIRED STEAM',\n",
    "    'SOLAR', 'SIMPLE CYCLE', 'HYDRO', 'OTHER', 'ENERGY STORAGE', 'TOTAL'\n",
    "}\n",
    "\n",
    "url = 'http://ets.aeso.ca/ets_web/ip/Market/Reports/CSDReportServlet'\n",
    "response = requests.get(url)\n",
    "response.encoding = 'utf-8'\n",
    "soup = BeautifulSoup(response.text, 'html.parser')"
   ],
   "id": "7a63b8e4fc9b4fc4",
   "outputs": [],
   "execution_count": 2
  },
  {
   "cell_type": "code",
   "id": "initial_id",
   "metadata": {
    "collapsed": true,
    "ExecuteTime": {
     "end_time": "2025-03-26T22:34:25.237484Z",
     "start_time": "2025-03-26T22:34:25.222136Z"
    }
   },
   "source": [
    "rows = soup.find_all('tr')\n",
    "final_data = []\n",
    "\n",
    "for row in rows:\n",
    "    cols = row.find_all('td')\n",
    "    if len(cols) != 4:\n",
    "        continue\n",
    "\n",
    "    clean_row = []\n",
    "    valid = True\n",
    "    for col in cols:\n",
    "        if len(col.contents) != 1 or not isinstance(col.contents[0], NavigableString):\n",
    "            valid = False\n",
    "            break\n",
    "        clean_row.append(col.get_text(strip=True))\n",
    "\n",
    "    if not valid:\n",
    "        continue\n",
    "\n",
    "    generator = clean_row[0]\n",
    "    if generator in excluded_first_col:\n",
    "        continue\n",
    "\n",
    "    match = re.search(r'\\(([^)]+)\\)', generator)\n",
    "    if not match:\n",
    "        raise ValueError(f\"Can't find Generator Name：{generator}\")\n",
    "\n",
    "    generator_name = match.group(1)\n",
    "    supply = clean_row[2]\n",
    "\n",
    "    final_data.append([generator, generator_name, supply])"
   ],
   "outputs": [],
   "execution_count": 3
  },
  {
   "metadata": {
    "ExecuteTime": {
     "end_time": "2025-03-26T22:34:25.304985Z",
     "start_time": "2025-03-26T22:34:25.241508Z"
    }
   },
   "cell_type": "code",
   "source": [
    "# Get Alberta current time\n",
    "alberta_tz = pytz.timezone('Canada/Mountain')\n",
    "now = datetime.now(alberta_tz)\n",
    "timestamp_str = now.strftime('%Y%m%d_%H%M')\n",
    "\n",
    "# Construct File name\n",
    "filename = f'GeneratorSupply_{timestamp_str}.csv'\n",
    "\n",
    "# Store into CSV\n",
    "with open(filename, 'w', newline='', encoding='utf-8') as f:\n",
    "    writer = csv.writer(f)\n",
    "    writer.writerow(['Generator', 'Generator Name', 'Supply'])\n",
    "    writer.writerows(final_data)\n",
    "\n",
    "print(\"Data has been written to\", filename)"
   ],
   "id": "6a222cfad50bfd7e",
   "outputs": [
    {
     "name": "stdout",
     "output_type": "stream",
     "text": [
      "Data has been written to GeneratorSupply_20250326_1634.csv\n"
     ]
    }
   ],
   "execution_count": 4
  }
 ],
 "metadata": {
  "kernelspec": {
   "display_name": "Python 3",
   "language": "python",
   "name": "python3"
  },
  "language_info": {
   "codemirror_mode": {
    "name": "ipython",
    "version": 2
   },
   "file_extension": ".py",
   "mimetype": "text/x-python",
   "name": "python",
   "nbconvert_exporter": "python",
   "pygments_lexer": "ipython2",
   "version": "2.7.6"
  }
 },
 "nbformat": 4,
 "nbformat_minor": 5
}
